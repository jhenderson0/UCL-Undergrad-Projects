{
 "cells": [
  {
   "cell_type": "code",
   "execution_count": 1,
   "metadata": {},
   "outputs": [
    {
     "data": {
      "text/html": [
       "<div id=\"glowscript\" class=\"glowscript\"></div>"
      ],
      "text/plain": [
       "<IPython.core.display.HTML object>"
      ]
     },
     "metadata": {},
     "output_type": "display_data"
    },
    {
     "data": {
      "application/javascript": [
       "if (typeof Jupyter !== \"undefined\") { window.__context = { glowscript_container: $(\"#glowscript\").removeAttr(\"id\")};}else{ element.textContent = ' ';}"
      ],
      "text/plain": [
       "<IPython.core.display.Javascript object>"
      ]
     },
     "metadata": {},
     "output_type": "display_data"
    }
   ],
   "source": [
    "#Modules\n",
    "import numpy as np\n",
    "from vpython import sphere, color, rate, canvas, vector, curve, label, box, cross, mag, random, arrow, sleep, text"
   ]
  },
  {
   "cell_type": "code",
   "execution_count": null,
   "metadata": {},
   "outputs": [
    {
     "data": {
      "text/html": [
       "<div id=\"glowscript\" class=\"glowscript\"></div>"
      ],
      "text/plain": [
       "<IPython.core.display.HTML object>"
      ]
     },
     "metadata": {},
     "output_type": "display_data"
    },
    {
     "data": {
      "application/javascript": [
       "if (typeof Jupyter !== \"undefined\") { window.__context = { glowscript_container: $(\"#glowscript\").removeAttr(\"id\")};}else{ element.textContent = ' ';}"
      ],
      "text/plain": [
       "<IPython.core.display.Javascript object>"
      ]
     },
     "metadata": {},
     "output_type": "display_data"
    },
    {
     "data": {
      "application/javascript": [
       "if (typeof Jupyter !== \"undefined\") {require.undef(\"nbextensions/vpython_libraries/glow.min\");}else{element.textContent = ' ';}"
      ],
      "text/plain": [
       "<IPython.core.display.Javascript object>"
      ]
     },
     "metadata": {},
     "output_type": "display_data"
    },
    {
     "data": {
      "application/javascript": [
       "if (typeof Jupyter !== \"undefined\") {require.undef(\"nbextensions/vpython_libraries/glowcomm\");}else{element.textContent = ' ';}"
      ],
      "text/plain": [
       "<IPython.core.display.Javascript object>"
      ]
     },
     "metadata": {},
     "output_type": "display_data"
    },
    {
     "data": {
      "application/javascript": [
       "if (typeof Jupyter !== \"undefined\") {require.undef(\"nbextensions/vpython_libraries/jquery-ui.custom.min\");}else{element.textContent = ' ';}"
      ],
      "text/plain": [
       "<IPython.core.display.Javascript object>"
      ]
     },
     "metadata": {},
     "output_type": "display_data"
    },
    {
     "data": {
      "application/javascript": [
       "if (typeof Jupyter !== \"undefined\") {require([\"nbextensions/vpython_libraries/glow.min\"], function(){console.log(\"GLOW LOADED\");});}else{element.textContent = ' ';}"
      ],
      "text/plain": [
       "<IPython.core.display.Javascript object>"
      ]
     },
     "metadata": {},
     "output_type": "display_data"
    },
    {
     "data": {
      "application/javascript": [
       "if (typeof Jupyter !== \"undefined\") {require([\"nbextensions/vpython_libraries/glowcomm\"], function(){console.log(\"GLOWCOMM LOADED\");});}else{element.textContent = ' ';}"
      ],
      "text/plain": [
       "<IPython.core.display.Javascript object>"
      ]
     },
     "metadata": {},
     "output_type": "display_data"
    },
    {
     "data": {
      "application/javascript": [
       "if (typeof Jupyter !== \"undefined\") {require([\"nbextensions/vpython_libraries/jquery-ui.custom.min\"], function(){console.log(\"JQUERY LOADED\");});}else{element.textContent = ' ';}"
      ],
      "text/plain": [
       "<IPython.core.display.Javascript object>"
      ]
     },
     "metadata": {},
     "output_type": "display_data"
    },
    {
     "name": "stdout",
     "output_type": "stream",
     "text": [
      "Hello and welcome to \n",
      "Starting velocity, ms^-1: 300\n",
      "Starting angle, degrees: 20\n",
      "Are these your chosen values: y/n: n\n",
      "Starting velocity, ms^-1: 300\n",
      "Starting angle, degrees: 2\n",
      "Are these your chosen values: y/n: y\n"
     ]
    }
   ],
   "source": [
    "######################\n",
    "###  Scene setup   ###\n",
    "######################\n",
    "\n",
    "scene = canvas(width=640, height=480, center=vector(8,5,0),range=8, userzoom = False)\n",
    "ground = curve(pos=[(0,0,0),(16,0,0)],color=color.green)\n",
    "\n",
    "###################################\n",
    "###  Add objects to the scene  ####\n",
    "###################################\n",
    "\n",
    "#Random values needed later\n",
    "target_distance = np.random.uniform(5,15) #m\n",
    "plat_height = np.random.uniform(0,1) #m\n",
    "\n",
    "#The Target\n",
    "target = box(pos=vector(target_distance,1,0), size=vector(0.5,2,0.5))\n",
    "target.top = 2\n",
    "target.left = target_distance-0.5\n",
    "\n",
    "#The Platform\n",
    "platform = box(pos=vector(0,0.5*plat_height,0), size=vector(0.5,plat_height,0.5), color = color.red)\n",
    "M = 100 #kg\n",
    "\n",
    "#The bird\n",
    "bird = sphere(pos=vector(0,plat_height+0.3,0), radius=0.3, color = color.yellow)\n",
    "m = 0.1 #kg\n",
    "x0 = 0\n",
    "y0 = plat_height+0.3\n",
    "momentum = arrow(pos=bird.pos, axis=vector(0,0,0), shaftwidth=0.05, color = color.red)\n",
    "\n",
    "#Title text\n",
    "Title_text = label( pos=vector(8,10,0), text='Unhappy Birds', color = color.yellow, box = False, height = 60 )\n",
    "End_text = label( pos=vector(8,5,0), text='End text', color = color.green, box = False, height = 20, visible = False )\n",
    "\n",
    "########################################\n",
    "###  Constants needed for the game  ####\n",
    "########################################\n",
    "\n",
    "delta_t = 0.01 #s\n",
    "time_step = 0.0001 #s\n",
    "g = 9.81 #ms−2\n",
    "\n",
    "########################################\n",
    "###  Functions needed for the game  ####\n",
    "########################################\n",
    "\n",
    "def get_momentum(v0, theta, t):\n",
    "    p_x = m*v0*np.cos(theta)\n",
    "    p_y = m*v0*np.sin(theta) - m*g*t\n",
    "    \n",
    "    return p_x, p_y\n",
    "\n",
    "def update_end_text(text, color):\n",
    "    End_text.color = color\n",
    "    End_text.visible = True\n",
    "    End_text.text = text\n",
    "\n",
    "########################################\n",
    "###            The Game             ####\n",
    "########################################\n",
    "print('Hello and welcome to ')\n",
    "go = True\n",
    "\n",
    "##### The main loop #####\n",
    "while go:\n",
    "    rate(1000)\n",
    "    start = 'y'\n",
    "    \n",
    "####################################################\n",
    "###                 Intro section                ###\n",
    "### Where the user inputs values for theta and v0###\n",
    "####################################################\n",
    "    \n",
    "    while start == 'y':\n",
    "        \n",
    "        t = 0\n",
    "        momentum.visible = False\n",
    "        bird.pos = vector(0,plat_height+0.3,0)\n",
    "        End_text.visible = False\n",
    "        \n",
    "        #Redraws the scene\n",
    "        sleep(0.1)\n",
    "        scene.waitfor(\"redraw\")\n",
    "        \n",
    "        #User inputs values for theta and v0\n",
    "        v0 = float(input('Starting velocity, ms^-1: '))\n",
    "        theta = np.radians(float(input('Starting angle, degrees: ')))\n",
    "        \n",
    "        #Calculates the initial momentum\n",
    "        p_x, p_y = get_momentum(v0, theta, t)\n",
    "        \n",
    "        #Shows the momentum arrow\n",
    "        momentum.visible = True\n",
    "        momentum.pos = bird.pos\n",
    "        momentum.axis = vector(p_x, p_y, 0)\n",
    "        momentum.length = mag(momentum.axis)\n",
    "        \n",
    "        #Redraws the scene\n",
    "        sleep(0.1)\n",
    "        scene.waitfor(\"redraw\")\n",
    "        \n",
    "        #Asks user if they want the game to continue\n",
    "        run_game = input('Are these your chosen values: y/n: ')\n",
    "        \n",
    "        #Begins the animation if the user is happy with their values\n",
    "        if run_game == 'y':\n",
    "            start = False\n",
    "    \n",
    "####################################################\n",
    "###           Main animation section             ###\n",
    "####################################################\n",
    "    \n",
    "    while run_game == 'y':\n",
    "        rate(1000)\n",
    "        \n",
    "        #Implement equations of motion\n",
    "        r_x = x0 + v0*t*np.cos(theta)\n",
    "        r_y = y0 + (v0*t*np.sin(theta) - ((g*(t**2))/2))\n",
    "        p_x, p_y = get_momentum(v0, theta, t)\n",
    "        \n",
    "        #Updates the birds position and momentum\n",
    "        bird.pos = vector(r_x, r_y, 0)\n",
    "        momentum.pos = bird.pos\n",
    "        momentum.axis = vector(p_x, p_y, 0)\n",
    "        momentum.length = mag(momentum.axis)+0.3\n",
    "        \n",
    "        #Increases time by the time step\n",
    "        t += time_step\n",
    "\n",
    "####################################################\n",
    "###              Collision detection             ###\n",
    "####################################################\n",
    "        #Checks if the bird has hit the ground\n",
    "        if bird.pos.y-0.3 <= 0:\n",
    "            update_end_text('You missed, try again!', color.red)\n",
    "            \n",
    "            #Redraws the scene\n",
    "            sleep(0.1)\n",
    "            scene.waitfor(\"redraw\")\n",
    "            \n",
    "            sleep(5)\n",
    "            \n",
    "            run_game = False\n",
    "            \n",
    "        #Checks if the bird has hit the target\n",
    "        elif bird.pos.x > target_distance-0.5 and bird.pos.x < target_distance+0.5 and bird.pos.y < target.height:\n",
    "            \n",
    "            #Implement the equations for torque\n",
    "            \n",
    "            #Restoring torque\n",
    "            mag_T_restoring = M*g*(0.5/2)\n",
    "            \n",
    "            #Applied torque\n",
    "            F_applied = momentum.axis/delta_t\n",
    "            collision_point = bird.pos\n",
    "            d = collision_point - vector(target_distance+0.5,0,0)\n",
    "            T_applied = cross(F_applied,d)\n",
    "            mag_T_applied = mag(T_applied)\n",
    "            \n",
    "            if mag_T_applied > mag_T_restoring:\n",
    "                #Rotates the target to show it fallen over\n",
    "                target.rotate(angle= -np.pi/2, axis=vector(0,0,1), origin=vector(target_distance,0,0))\n",
    "            \n",
    "                update_end_text('The target fell, you win!', color.green)\n",
    "                \n",
    "                #Redraws the scene\n",
    "                sleep(0.1)\n",
    "                scene.waitfor(\"redraw\")\n",
    "                \n",
    "                sleep(1)\n",
    "                #Rotates the target back to its original position\n",
    "                target.rotate(angle= np.pi/2, axis=vector(0,0,1), origin=vector(target_distance,0,0))\n",
    "                \n",
    "                run_game = False\n",
    "                \n",
    "                \n",
    "            \n",
    "            else:\n",
    "                update_end_text('The target did\\'nt fall, try again!', color.red)\n",
    "                \n",
    "                #Redraws the scene\n",
    "                sleep(0.1)\n",
    "                scene.waitfor(\"redraw\")\n",
    "                \n",
    "                sleep(5)\n",
    "                \n",
    "                run_game = False\n",
    "                \n",
    "            \n",
    "    \n",
    "    \n",
    "    \n",
    "    "
   ]
  },
  {
   "cell_type": "code",
   "execution_count": null,
   "metadata": {},
   "outputs": [],
   "source": []
  }
 ],
 "metadata": {
  "kernelspec": {
   "display_name": "Python 3",
   "language": "python",
   "name": "python3"
  },
  "language_info": {
   "codemirror_mode": {
    "name": "ipython",
    "version": 3
   },
   "file_extension": ".py",
   "mimetype": "text/x-python",
   "name": "python",
   "nbconvert_exporter": "python",
   "pygments_lexer": "ipython3",
   "version": "3.7.4"
  }
 },
 "nbformat": 4,
 "nbformat_minor": 2
}
