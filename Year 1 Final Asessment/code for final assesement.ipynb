{
 "cells": [
  {
   "cell_type": "code",
   "execution_count": 5,
   "metadata": {},
   "outputs": [],
   "source": [
    "#Modules\n",
    "import numpy as np\n",
    "from vpython import sphere, color, rate, canvas, vector, curve, label, box, cross, mag, random, arrow, sleep, text"
   ]
  },
  {
   "cell_type": "code",
   "execution_count": null,
   "metadata": {},
   "outputs": [
    {
     "data": {
      "text/html": [
       "<div id=\"glowscript\" class=\"glowscript\"></div>"
      ],
      "text/plain": [
       "<IPython.core.display.HTML object>"
      ]
     },
     "metadata": {},
     "output_type": "display_data"
    },
    {
     "data": {
      "application/javascript": [
       "if (typeof Jupyter !== \"undefined\") { window.__context = { glowscript_container: $(\"#glowscript\").removeAttr(\"id\")};}else{ element.textContent = ' ';}"
      ],
      "text/plain": [
       "<IPython.core.display.Javascript object>"
      ]
     },
     "metadata": {},
     "output_type": "display_data"
    },
    {
     "data": {
      "application/javascript": [
       "if (typeof Jupyter !== \"undefined\") {require.undef(\"nbextensions/vpython_libraries/glow.min\");}else{element.textContent = ' ';}"
      ],
      "text/plain": [
       "<IPython.core.display.Javascript object>"
      ]
     },
     "metadata": {},
     "output_type": "display_data"
    },
    {
     "data": {
      "application/javascript": [
       "if (typeof Jupyter !== \"undefined\") {require.undef(\"nbextensions/vpython_libraries/glowcomm\");}else{element.textContent = ' ';}"
      ],
      "text/plain": [
       "<IPython.core.display.Javascript object>"
      ]
     },
     "metadata": {},
     "output_type": "display_data"
    },
    {
     "data": {
      "application/javascript": [
       "if (typeof Jupyter !== \"undefined\") {require.undef(\"nbextensions/vpython_libraries/jquery-ui.custom.min\");}else{element.textContent = ' ';}"
      ],
      "text/plain": [
       "<IPython.core.display.Javascript object>"
      ]
     },
     "metadata": {},
     "output_type": "display_data"
    },
    {
     "data": {
      "application/javascript": [
       "if (typeof Jupyter !== \"undefined\") {require([\"nbextensions/vpython_libraries/glow.min\"], function(){console.log(\"GLOW LOADED\");});}else{element.textContent = ' ';}"
      ],
      "text/plain": [
       "<IPython.core.display.Javascript object>"
      ]
     },
     "metadata": {},
     "output_type": "display_data"
    },
    {
     "data": {
      "application/javascript": [
       "if (typeof Jupyter !== \"undefined\") {require([\"nbextensions/vpython_libraries/glowcomm\"], function(){console.log(\"GLOWCOMM LOADED\");});}else{element.textContent = ' ';}"
      ],
      "text/plain": [
       "<IPython.core.display.Javascript object>"
      ]
     },
     "metadata": {},
     "output_type": "display_data"
    },
    {
     "data": {
      "application/javascript": [
       "if (typeof Jupyter !== \"undefined\") {require([\"nbextensions/vpython_libraries/jquery-ui.custom.min\"], function(){console.log(\"JQUERY LOADED\");});}else{element.textContent = ' ';}"
      ],
      "text/plain": [
       "<IPython.core.display.Javascript object>"
      ]
     },
     "metadata": {},
     "output_type": "display_data"
    },
    {
     "name": "stdout",
     "output_type": "stream",
     "text": [
      "Start game?: y/n: y\n",
      "Starting velocity, ms^-1: 10\n",
      "Starting angle, degrees: 20\n",
      "Are these your chosen values: y/n: y\n",
      "Hit\n",
      "Didn't fall\n",
      "Start game?: y/n: n\n",
      "Start game?: y/n: n\n"
     ]
    }
   ],
   "source": [
    "#Make the scene \n",
    "\n",
    "#Create the scene\n",
    "scene = canvas(width=640, height=480, center=vector(8,5,0),range=8)\n",
    "ground = curve(pos=[(0,0,0),(16,0,0)],color=color.green)\n",
    "\n",
    "#Random values\n",
    "target_distance = np.random.uniform(5,15) #m\n",
    "plat_height = np.random.uniform(0,1) #m\n",
    "\n",
    "#Objects\n",
    "target = box(pos=vector(target_distance,1,0), size=vector(0.5,2,0.5))\n",
    "target.top = 2\n",
    "target.left = target_distance-0.5\n",
    "\n",
    "text_pos = vector(8,3,0)\n",
    "\n",
    "platform = box(pos=vector(0,0.5*plat_height,0), size=vector(0.5,plat_height,0.5), color = color.red)\n",
    "M = 100 #kg\n",
    "\n",
    "bird = sphere(pos=vector(0,plat_height+0.1,0), radius=0.1, color = color.yellow)\n",
    "m = 0.1 #kg\n",
    "x0 = 0\n",
    "y0 = plat_height+0.1\n",
    "\n",
    "momentum = arrow(pos=bird.pos, axis=vector(0,0,0), shaftwidth=0.05, color = color.red)\n",
    "\n",
    "\n",
    "#Time values\n",
    "delta_t = 0.01 #s\n",
    "time_step = 0.0001 #s\n",
    "\n",
    "#Constants\n",
    "g = 9.81 #ms−2\n",
    "\n",
    "#Start loop\n",
    "go = True \n",
    "\n",
    "while go:\n",
    "    \n",
    "    run_intro = input('Start game?: y/n: ')\n",
    "    \n",
    "    #Introduction where player chooses values for theta and v0\n",
    "    while run_intro == 'y':\n",
    "        t = 0 #s\n",
    "        \n",
    "        bird.pos = vector(0,plat_height+0.1,0)\n",
    "        momentum.color = color.black\n",
    "        \n",
    "        sleep(0.2)\n",
    "        \n",
    "        v0 = float(input('Starting velocity, ms^-1: '))\n",
    "        theta = np.radians(float(input('Starting angle, degrees: ')))\n",
    "        \n",
    "        p_x = m*v0*np.cos(theta)\n",
    "        p_y = m*v0*np.sin(theta) - m*g*t\n",
    "        \n",
    "        momentum.color = color.red\n",
    "        momentum.pos = bird.pos\n",
    "        momentum.axis = vector(p_x, p_y, 0)\n",
    "        momentum.length = mag(momentum.axis)\n",
    "        \n",
    "        sleep(0.1)\n",
    "        \n",
    "        run_game = input('Are these your chosen values: y/n: ')\n",
    "        \n",
    "        if run_game == 'y':\n",
    "            run_intro = False\n",
    "        \n",
    "            \n",
    "    #Main game \n",
    "    while run_game == 'y':\n",
    "        rate(1000)\n",
    "        \n",
    "        #Linear motion\n",
    "        r_x = x0 + v0*t*np.cos(theta)\n",
    "        r_y = y0 + (v0*t*np.sin(theta) - ((g*(t**2))/2))\n",
    "        \n",
    "        p_x = m*v0*np.cos(theta)\n",
    "        p_y = m*v0*np.sin(theta) - m*g*t\n",
    "        \n",
    "        bird.pos = vector(r_x, r_y, 0)\n",
    "        momentum.pos = bird.pos\n",
    "        momentum.axis = vector(p_x, p_y, 0)\n",
    "        momentum.length = mag(momentum.axis)\n",
    "    \n",
    "        \n",
    "        #Collision detection\n",
    "        if bird.pos.x > target_distance-0.5 and bird.pos.x < target_distance+0.5 and bird.pos.y < target.height:\n",
    "            print('Hit')\n",
    "            \n",
    "            #Restoring torque\n",
    "            mag_T_restoring = M*g*(0.5/2)\n",
    "            \n",
    "            #Applied torque\n",
    "            F_applied = momentum.axis/delta_t\n",
    "            collision_point = bird.pos\n",
    "            d = collision_point - vector(target_distance+0.5,0,0)\n",
    "            T_applied = cross(F_applied,d)\n",
    "            mag_T_applied = mag(T_applied)\n",
    "            \n",
    "            if mag_T_applied > mag_T_restoring:\n",
    "                print('Fell')\n",
    "                run_game = 'n'\n",
    "                \n",
    "            else:\n",
    "                run_intro = 'y'\n",
    "                print('Didn\\'t fall')\n",
    "                run_game = 'n'\n",
    "                \n",
    "                \n",
    "        elif bird.pos.y <= 0:\n",
    "            print('Missed')\n",
    "            run_game, run_intro = False, 'y'    \n",
    "        \n",
    "        t += time_step"
   ]
  },
  {
   "cell_type": "code",
   "execution_count": null,
   "metadata": {},
   "outputs": [],
   "source": []
  }
 ],
 "metadata": {
  "kernelspec": {
   "display_name": "Python 3",
   "language": "python",
   "name": "python3"
  },
  "language_info": {
   "codemirror_mode": {
    "name": "ipython",
    "version": 3
   },
   "file_extension": ".py",
   "mimetype": "text/x-python",
   "name": "python",
   "nbconvert_exporter": "python",
   "pygments_lexer": "ipython3",
   "version": "3.7.4"
  }
 },
 "nbformat": 4,
 "nbformat_minor": 2
}
