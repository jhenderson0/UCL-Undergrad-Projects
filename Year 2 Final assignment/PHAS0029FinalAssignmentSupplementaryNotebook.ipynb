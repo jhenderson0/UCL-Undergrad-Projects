{
 "cells": [
  {
   "cell_type": "markdown",
   "metadata": {},
   "source": [
    "# Supplementary notebook for the Final Assignment\n",
    "#### louise.dash@ucl.ac.uk Last updated: 06/02/2020\n",
    "\n"
   ]
  },
  {
   "cell_type": "markdown",
   "metadata": {},
   "source": [
    "This notebook contains the following:\n",
    "\n",
    "* The equations from the script for the Final assignment, already typeset for you\n",
    "* An example of how to reference using the Harvard style within a Jupyter Notebook.\n",
    "\n",
    "You may copy and paste these equations into your own notebook as required (in which case make sure this notebook is included in your list of references). You should also make sure these equations are suitably referenced, i.e. include a reference either to the script (Dash 2020) and/or to another source such as a textbook, for example (Rae 2002).\n",
    "\n",
    "You can find more information on how to reference different types of sources using the Harvard style at https://www.ucl.ac.uk/library/libraryskills-ucl/guides-and-elearning/references-citations-and-avoiding-plagiarism\n",
    "\n",
    "\n",
    "Here are the equations from the PHAS0029 Final Assignment in $\\LaTeX$ form."
   ]
  },
  {
   "cell_type": "markdown",
   "metadata": {},
   "source": [
    "1.\n",
    "$$\n",
    "-\\frac{\\hbar^2}{2m} \\frac{d^2\\psi}{dx^2} + V(x)\\psi(x) = E\\psi(x)\n",
    "$$"
   ]
  },
  {
   "cell_type": "markdown",
   "metadata": {},
   "source": [
    "2.\n",
    "$$ V_x = \\begin{cases} 0 & \\text{if } -a \\leq x \\leq +a, \\\\ \n",
    "\\infty  & \\text{if } |x| > a, \\end{cases} \n",
    "$$"
   ]
  },
  {
   "cell_type": "markdown",
   "metadata": {},
   "source": [
    "3,4.\n",
    "$$\n",
    "\\frac{d \\psi}{dx } = \\phi, \\\\\n",
    "\\frac{d \\phi}{dx } = \\frac{2m}{\\hbar^2} \\left[V(x) - E \\right] \\psi(x),\n",
    "$$"
   ]
  },
  {
   "cell_type": "markdown",
   "metadata": {},
   "source": [
    "5.\n",
    "$$\n",
    "E_n = \\frac{\\pi^2 \\hbar^2 n^2}{2m (2a)^2}\n",
    "$$"
   ]
  },
  {
   "cell_type": "markdown",
   "metadata": {},
   "source": [
    "6.\n",
    "$$\n",
    "\\int_{-\\infty}^{\\infty} | \\psi(x) |^2 {\\rm d} x = 1\n",
    "$$"
   ]
  },
  {
   "cell_type": "markdown",
   "metadata": {},
   "source": [
    "7.\n",
    "$$\n",
    "I(a,b) = h \\left[ \\frac{1}{2}f(a) + \\frac{1}{2}f(b) +\n",
    "      \\sum_{k=1}^{n-1}f(x + kh) \\right]\n",
    "$$"
   ]
  },
  {
   "cell_type": "markdown",
   "metadata": {},
   "source": [
    "8a, 8b.\n",
    "$$\n",
    "\\psi_n(x)  = \\frac{1}{\\sqrt{a}} \\cos\\left(\\frac{ n \\pi x}{2a}\\right) \\qquad \n",
    "    n \\ \\mathrm{odd}\n",
    "    $$\n",
    "    $$\n",
    "    \\psi_n(x)  = \\frac{1}{\\sqrt{a}} \\sin\\left(\\frac{ n \\pi x}{2a}\\right) \\qquad\n",
    "    n \\ \\mathrm{even}.\n",
    "$$"
   ]
  },
  {
   "cell_type": "markdown",
   "metadata": {},
   "source": [
    "9.\n",
    "$$\n",
    "V(x) = V_0 \\frac{x^2}{a^2}\n",
    "$$"
   ]
  },
  {
   "cell_type": "markdown",
   "metadata": {},
   "source": [
    "10.\n",
    "$$\n",
    "V_x = \\begin{cases} 0 & \\text{if } -a/2 \\leq x \\leq +a/2, \\\\ \n",
    "    V_0  & \\text{if } |x| > a/2, \\end{cases} \n",
    "$$"
   ]
  },
  {
   "cell_type": "markdown",
   "metadata": {},
   "source": [
    "## Bibliography\n",
    "\n",
    "* Dash, L. 2020. _\" PHAS0029 Final Assignment 2020\"_. \\[Online\\] UCL Moodle resource. Available from   https://moodle.ucl.ac.uk/course/view.php?id=6766&section=14 \\[accessed 6th February 2020\\]\n",
    "\n",
    "* Rae, Alastair I. M. 2002. _\"Quantum mechanics\"_. Fourth edition. Bristol: Institute of Physics publishing. \n"
   ]
  },
  {
   "cell_type": "code",
   "execution_count": null,
   "metadata": {},
   "outputs": [],
   "source": []
  }
 ],
 "metadata": {
  "anaconda-cloud": {},
  "kernelspec": {
   "display_name": "Python 3",
   "language": "python",
   "name": "python3"
  },
  "language_info": {
   "codemirror_mode": {
    "name": "ipython",
    "version": 3
   },
   "file_extension": ".py",
   "mimetype": "text/x-python",
   "name": "python",
   "nbconvert_exporter": "python",
   "pygments_lexer": "ipython3",
   "version": "3.7.4"
  }
 },
 "nbformat": 4,
 "nbformat_minor": 1
}
